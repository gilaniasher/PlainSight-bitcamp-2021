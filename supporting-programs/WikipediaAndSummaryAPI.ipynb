{
  "nbformat": 4,
  "nbformat_minor": 0,
  "metadata": {
    "colab": {
      "name": "WikipediaAndSummaryAPI.ipynb",
      "provenance": [],
      "collapsed_sections": []
    },
    "kernelspec": {
      "name": "python3",
      "display_name": "Python 3"
    },
    "language_info": {
      "name": "python"
    }
  },
  "cells": [
    {
      "cell_type": "markdown",
      "metadata": {
        "id": "TQy9FPII2DyF"
      },
      "source": [
        "Wikipedia library example "
      ]
    },
    {
      "cell_type": "code",
      "metadata": {
        "id": "ZSMl-9_Z39eI"
      },
      "source": [
        "import requests\n",
        "import typing\n",
        "\n",
        "session = requests.Session()"
      ],
      "execution_count": 168,
      "outputs": []
    },
    {
      "cell_type": "code",
      "metadata": {
        "id": "aYZIdSNcW0Xt"
      },
      "source": [
        "# text,         type:str    - Content wanting to be summarized.\n",
        "\n",
        "# Note: Error occurs when text is too short.\n",
        "def summary(text:str)-> dict:\n",
        "  API_KEY = \"*******\"\n",
        "  url = \"https://api.smmry.com\"\n",
        "  \n",
        "  data = {\"sm_api_input\":text}\n",
        "  params = {\"SM_API_KEY\":API_KEY}\n",
        "  header_params = {\"Expect\":\"100-continue\"}\n",
        "\n",
        "  res = session.post(url=url, params=params, data=data, headers=header_params).json()\n",
        "  try:\n",
        "    return {'status':200, 'message':res['sm_api_content']}\n",
        "  except Exception:\n",
        "    return {'status':500, 'message':res['sm_api_message']}"
      ],
      "execution_count": 169,
      "outputs": []
    },
    {
      "cell_type": "code",
      "metadata": {
        "id": "TNersbAUEzA0"
      },
      "source": [
        "# name,         type:str  - First and last name of a given actor\n",
        "# num_sentence, type:int  - Number of sentences returned for wikipedia api\n",
        "\n",
        "# Note: num_sentence should range between 4-10\n",
        "def search_wiki(name:str, num_sentence:int=10) -> dict:\n",
        "  url = \"https://en.wikipedia.org/w/api.php?&exintro&explaintext&indexpageids\"\n",
        "  params = {\n",
        "    \"action\":\"query\",\n",
        "    \"format\":\"json\",\n",
        "    \"titles\":name,\n",
        "    \"exsentences\":num_sentence,\n",
        "    \"prop\":\"extracts|info\",\n",
        "    \"redirects\":1,\n",
        "    \"inprop\":\"url\"\n",
        "  }\n",
        "  res = session.get(url=url, params=params).json()\n",
        "  try:\n",
        "    # Return dictionary of responses\n",
        "    pageid = res['query']['pageids'][0]\n",
        "    content = str(res['query']['pages'][str(pageid)]['extract'])\n",
        "    sum = summary(text=content)\n",
        "    return {'status':200, \n",
        "            'response':{\n",
        "                'source':res['query']['pages'][str(pageid)]['fullurl'],\n",
        "                'title':res['query']['pages'][str(pageid)]['title'],\n",
        "                'summary':sum['message'] if sum['status'] is 200 else content\n",
        "                }\n",
        "            }\n",
        "  except KeyError:\n",
        "    # Person not found\n",
        "    return {'error':404, 'message':f'Could not find \\\"{name}\\\".'}\n",
        "  except Exception as e:\n",
        "    # Generic Exception\n",
        "    return {'error':500, 'message':f\"Error processing request.{e}\"}\n",
        "\n"
      ],
      "execution_count": 173,
      "outputs": []
    },
    {
      "cell_type": "markdown",
      "metadata": {
        "id": "qIWwl1yzVE9P"
      },
      "source": [
        "Note, the above function does not work when name is misspelled. For our implementation, we will not worry about misspell since data will be read from classifier."
      ]
    },
    {
      "cell_type": "code",
      "metadata": {
        "colab": {
          "base_uri": "https://localhost:8080/"
        },
        "id": "oikc6IMrSn14",
        "outputId": "04ac6726-e72e-447b-bd68-a30ca7a28cf3"
      },
      "source": [
        "name = \"bob marley\"\n",
        "response = search_wiki(name)\n",
        "print(response)"
      ],
      "execution_count": 174,
      "outputs": [
        {
          "output_type": "execute_result",
          "data": {
            "text/plain": [
              "{'response': {'source': 'https://en.wikipedia.org/wiki/Bob_Marley',\n",
              "  'summary': 'Robert Nesta \"Bob\" Marley, was a Jamaican singer, songwriter, and musician. Marley\\'s contributions to music increased the visibility of Jamaican music worldwide, and made him a global figure in popular culture for over a decade. Over the course of his career Marley became known as a Rastafari icon, and he infused his music with a sense of spirituality. Born in Nine Mile, British Jamaica, Marley began his professional musical career in 1963, after forming Bob Marley and the Wailers. The group released its debut studio album The Wailing Wailers in 1965, which contained the single \"One Love/People Get Ready\"; the song was popular worldwide, and established the group as a rising figure in reggae. The Wailers subsequently released eleven further studio albums; while initially employing louder instrumentation and singing, the group began engaging in rhythmic-based song construction in the late 1960s and early 1970s, which coincided with the singer\\'s conversion to Rastafari. Following the disbandment of the Wailers a year later, Marley went on to release his solo material under the band\\'s name.',\n",
              "  'title': 'Bob Marley'},\n",
              " 'status': 200}"
            ]
          },
          "metadata": {
            "tags": []
          },
          "execution_count": 174
        }
      ]
    }
  ]
}